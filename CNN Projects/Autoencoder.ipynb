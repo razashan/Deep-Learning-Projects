{
  "nbformat": 4,
  "nbformat_minor": 0,
  "metadata": {
    "colab": {
      "name": "Autoencoder.ipynb",
      "provenance": [],
      "collapsed_sections": []
    },
    "kernelspec": {
      "name": "python3",
      "display_name": "Python 3"
    }
  },
  "cells": [
    {
      "cell_type": "code",
      "metadata": {
        "id": "ODDtXjei4oZ1",
        "colab_type": "code",
        "colab": {
          "base_uri": "https://localhost:8080/",
          "height": 245
        },
        "outputId": "253a3591-4686-4135-f9ea-31e2d263f458"
      },
      "source": [
        "!pip install scipy==1.1.0"
      ],
      "execution_count": 3,
      "outputs": [
        {
          "output_type": "stream",
          "text": [
            "Collecting scipy==1.1.0\n",
            "\u001b[?25l  Downloading https://files.pythonhosted.org/packages/a8/0b/f163da98d3a01b3e0ef1cab8dd2123c34aee2bafbb1c5bffa354cc8a1730/scipy-1.1.0-cp36-cp36m-manylinux1_x86_64.whl (31.2MB)\n",
            "\u001b[K     |████████████████████████████████| 31.2MB 142kB/s \n",
            "\u001b[?25hRequirement already satisfied: numpy>=1.8.2 in /usr/local/lib/python3.6/dist-packages (from scipy==1.1.0) (1.18.2)\n",
            "\u001b[31mERROR: tensorflow 2.2.0rc3 has requirement scipy==1.4.1; python_version >= \"3\", but you'll have scipy 1.1.0 which is incompatible.\u001b[0m\n",
            "\u001b[31mERROR: plotnine 0.6.0 has requirement scipy>=1.2.0, but you'll have scipy 1.1.0 which is incompatible.\u001b[0m\n",
            "\u001b[31mERROR: albumentations 0.1.12 has requirement imgaug<0.2.7,>=0.2.5, but you'll have imgaug 0.2.9 which is incompatible.\u001b[0m\n",
            "Installing collected packages: scipy\n",
            "  Found existing installation: scipy 1.4.1\n",
            "    Uninstalling scipy-1.4.1:\n",
            "      Successfully uninstalled scipy-1.4.1\n",
            "Successfully installed scipy-1.1.0\n"
          ],
          "name": "stdout"
        }
      ]
    },
    {
      "cell_type": "code",
      "metadata": {
        "id": "Vn2jU9zf4rlA",
        "colab_type": "code",
        "colab": {
          "base_uri": "https://localhost:8080/",
          "height": 35
        },
        "outputId": "c8509497-8e17-4abd-80e9-04005ace2f9b"
      },
      "source": [
        "import scipy\n",
        "print(scipy.__version__)"
      ],
      "execution_count": 5,
      "outputs": [
        {
          "output_type": "stream",
          "text": [
            "1.1.0\n"
          ],
          "name": "stdout"
        }
      ]
    },
    {
      "cell_type": "code",
      "metadata": {
        "id": "vb32EmLv6K5_",
        "colab_type": "code",
        "colab": {}
      },
      "source": [
        "from scipy.misc import imresize"
      ],
      "execution_count": 0,
      "outputs": []
    },
    {
      "cell_type": "code",
      "metadata": {
        "id": "y8PAX3SR6Tx-",
        "colab_type": "code",
        "colab": {}
      },
      "source": [
        "import numpy as np\n",
        "import matplotlib.pyplot as plt\n",
        "from keras.datasets import mnist"
      ],
      "execution_count": 0,
      "outputs": []
    },
    {
      "cell_type": "code",
      "metadata": {
        "id": "7sXImLeZ6cC_",
        "colab_type": "code",
        "colab": {
          "base_uri": "https://localhost:8080/",
          "height": 52
        },
        "outputId": "c4e1eeef-6ca3-46f0-9cb0-afe6d20bcfbe"
      },
      "source": [
        "(X_train,y_train), (X_test,y_test) = mnist.load_data()"
      ],
      "execution_count": 8,
      "outputs": [
        {
          "output_type": "stream",
          "text": [
            "Downloading data from https://s3.amazonaws.com/img-datasets/mnist.npz\n",
            "11493376/11490434 [==============================] - 2s 0us/step\n"
          ],
          "name": "stdout"
        }
      ]
    },
    {
      "cell_type": "code",
      "metadata": {
        "id": "QIlhEKUH6me2",
        "colab_type": "code",
        "colab": {}
      },
      "source": [
        "from keras.layers import Conv2D, MaxPooling2D, UpSampling2D\n",
        "from keras.models import Model, Sequential\n",
        "from keras.optimizers import Adam\n",
        "from keras import backend as k"
      ],
      "execution_count": 0,
      "outputs": []
    },
    {
      "cell_type": "code",
      "metadata": {
        "id": "xGAqX8Rr657U",
        "colab_type": "code",
        "colab": {
          "base_uri": "https://localhost:8080/",
          "height": 107
        },
        "outputId": "7673ef84-7309-47ba-c322-7439a5256f6c"
      },
      "source": [
        "def reshape(x):\n",
        "  img = imresize(x.reshape(28,28),(14,14))\n",
        "  return img\n",
        "\n",
        "\n",
        "XX_train = np.array([*map(reshape,X_train.astype(float))])\n",
        "XX_test = np.array([*map(reshape,X_test.astype(float))])"
      ],
      "execution_count": 10,
      "outputs": [
        {
          "output_type": "stream",
          "text": [
            "/usr/local/lib/python3.6/dist-packages/ipykernel_launcher.py:2: DeprecationWarning: `imresize` is deprecated!\n",
            "`imresize` is deprecated in SciPy 1.0.0, and will be removed in 1.2.0.\n",
            "Use ``skimage.transform.resize`` instead.\n",
            "  \n"
          ],
          "name": "stderr"
        }
      ]
    },
    {
      "cell_type": "code",
      "metadata": {
        "id": "J6RvT70K7SUz",
        "colab_type": "code",
        "colab": {}
      },
      "source": [
        "XX_train  = X_train/255\n",
        "X_train = X_train/255\n",
        "\n",
        "XX_test = X_test/255\n",
        "X_test = X_test/255\n",
        "\n",
        "batch_size = 128\n",
        "epochs = 40\n",
        "input_shape = (14,14,1)"
      ],
      "execution_count": 0,
      "outputs": []
    },
    {
      "cell_type": "code",
      "metadata": {
        "id": "t4DUf8B67px4",
        "colab_type": "code",
        "colab": {}
      },
      "source": [
        "def make_autoencoder(input_shape):\n",
        "  generator = Sequential()\n",
        "  generator.add(Conv2D(64,(3,3),activation='relu',padding='same',input_shape=input_shape))\n",
        "  generator.add(MaxPooling2D(pool_size=(2,2)))\n",
        "  generator.add(Conv2D(128,(3,3),activation='relu',padding='same'))\n",
        "  generator.add(Conv2D(128,(3,3),activation='relu',padding='same'))\n",
        "  generator.add(UpSampling2D((2,2)))\n",
        "  generator.add(Conv2D(64,(3,3),activation='relu',padding='same'))\n",
        "  generator.add(UpSampling2D((2,2)))\n",
        "  generator.add(Conv2D(1,(3,3),activation='sigmoid',padding='same'))\n",
        "  return generator"
      ],
      "execution_count": 0,
      "outputs": []
    },
    {
      "cell_type": "code",
      "metadata": {
        "id": "-VjNFe9--PRL",
        "colab_type": "code",
        "colab": {
          "base_uri": "https://localhost:8080/",
          "height": 401
        },
        "outputId": "0df24597-f4a5-4c8f-9e1e-0af9656076b4"
      },
      "source": [
        "autoencoder = make_autoencoder(input_shape)\n",
        "autoencoder.compile(loss='mean_squared_error', optimizer = Adam(lr=0.0002,\n",
        "                                                                beta_1=0.5))\n",
        "\n",
        "autoencoder_train = autoencoder.fit(XX_train.reshape(-1,14,14,1),\n",
        "                                    X_train.reshape(-1,28,28,1),\n",
        "                                    batch_size=batch_size,\n",
        "                                    epochs=epochs, verbose=1,\n",
        "                                    validation_split = 0.2)\n",
        "\n",
        "loss = autoencoder_train.history['loss']\n",
        "val_loss = autoencoder_train.history['val_loss']\n",
        "epochs_ = [x for x in range(epochs)]\n",
        "plt.figure()\n",
        "plt.plot(epochs_, loss, label='Training loss', marker = 'D')\n",
        "plt.plot(epochs_, val_loss, label='Validation loss', marker = 'o')\n",
        "plt.title('Training and validation loss')\n",
        "plt.legend()\n",
        "plt.show()"
      ],
      "execution_count": 16,
      "outputs": [
        {
          "output_type": "error",
          "ename": "ValueError",
          "evalue": "ignored",
          "traceback": [
            "\u001b[0;31m---------------------------------------------------------------------------\u001b[0m",
            "\u001b[0;31mValueError\u001b[0m                                Traceback (most recent call last)",
            "\u001b[0;32m<ipython-input-16-1431719ca5d3>\u001b[0m in \u001b[0;36m<module>\u001b[0;34m()\u001b[0m\n\u001b[1;32m      7\u001b[0m                                     \u001b[0mbatch_size\u001b[0m\u001b[0;34m=\u001b[0m\u001b[0mbatch_size\u001b[0m\u001b[0;34m,\u001b[0m\u001b[0;34m\u001b[0m\u001b[0;34m\u001b[0m\u001b[0m\n\u001b[1;32m      8\u001b[0m                                     \u001b[0mepochs\u001b[0m\u001b[0;34m=\u001b[0m\u001b[0mepochs\u001b[0m\u001b[0;34m,\u001b[0m \u001b[0mverbose\u001b[0m\u001b[0;34m=\u001b[0m\u001b[0;36m1\u001b[0m\u001b[0;34m,\u001b[0m\u001b[0;34m\u001b[0m\u001b[0;34m\u001b[0m\u001b[0m\n\u001b[0;32m----> 9\u001b[0;31m                                     validation_split = 0.2)\n\u001b[0m\u001b[1;32m     10\u001b[0m \u001b[0;34m\u001b[0m\u001b[0m\n\u001b[1;32m     11\u001b[0m \u001b[0mloss\u001b[0m \u001b[0;34m=\u001b[0m \u001b[0mautoencoder_train\u001b[0m\u001b[0;34m.\u001b[0m\u001b[0mhistory\u001b[0m\u001b[0;34m[\u001b[0m\u001b[0;34m'loss'\u001b[0m\u001b[0;34m]\u001b[0m\u001b[0;34m\u001b[0m\u001b[0;34m\u001b[0m\u001b[0m\n",
            "\u001b[0;32m/usr/local/lib/python3.6/dist-packages/keras/engine/training.py\u001b[0m in \u001b[0;36mfit\u001b[0;34m(self, x, y, batch_size, epochs, verbose, callbacks, validation_split, validation_data, shuffle, class_weight, sample_weight, initial_epoch, steps_per_epoch, validation_steps, validation_freq, max_queue_size, workers, use_multiprocessing, **kwargs)\u001b[0m\n\u001b[1;32m   1152\u001b[0m             \u001b[0msample_weight\u001b[0m\u001b[0;34m=\u001b[0m\u001b[0msample_weight\u001b[0m\u001b[0;34m,\u001b[0m\u001b[0;34m\u001b[0m\u001b[0;34m\u001b[0m\u001b[0m\n\u001b[1;32m   1153\u001b[0m             \u001b[0mclass_weight\u001b[0m\u001b[0;34m=\u001b[0m\u001b[0mclass_weight\u001b[0m\u001b[0;34m,\u001b[0m\u001b[0;34m\u001b[0m\u001b[0;34m\u001b[0m\u001b[0m\n\u001b[0;32m-> 1154\u001b[0;31m             batch_size=batch_size)\n\u001b[0m\u001b[1;32m   1155\u001b[0m \u001b[0;34m\u001b[0m\u001b[0m\n\u001b[1;32m   1156\u001b[0m         \u001b[0;31m# Prepare validation data.\u001b[0m\u001b[0;34m\u001b[0m\u001b[0;34m\u001b[0m\u001b[0;34m\u001b[0m\u001b[0m\n",
            "\u001b[0;32m/usr/local/lib/python3.6/dist-packages/keras/engine/training.py\u001b[0m in \u001b[0;36m_standardize_user_data\u001b[0;34m(self, x, y, sample_weight, class_weight, check_array_lengths, batch_size)\u001b[0m\n\u001b[1;32m    635\u001b[0m             \u001b[0;31m# Check that all arrays have the same length.\u001b[0m\u001b[0;34m\u001b[0m\u001b[0;34m\u001b[0m\u001b[0;34m\u001b[0m\u001b[0m\n\u001b[1;32m    636\u001b[0m             \u001b[0;32mif\u001b[0m \u001b[0mcheck_array_lengths\u001b[0m\u001b[0;34m:\u001b[0m\u001b[0;34m\u001b[0m\u001b[0;34m\u001b[0m\u001b[0m\n\u001b[0;32m--> 637\u001b[0;31m                 \u001b[0mtraining_utils\u001b[0m\u001b[0;34m.\u001b[0m\u001b[0mcheck_array_length_consistency\u001b[0m\u001b[0;34m(\u001b[0m\u001b[0mx\u001b[0m\u001b[0;34m,\u001b[0m \u001b[0my\u001b[0m\u001b[0;34m,\u001b[0m \u001b[0msample_weights\u001b[0m\u001b[0;34m)\u001b[0m\u001b[0;34m\u001b[0m\u001b[0;34m\u001b[0m\u001b[0m\n\u001b[0m\u001b[1;32m    638\u001b[0m             \u001b[0;32mif\u001b[0m \u001b[0mself\u001b[0m\u001b[0;34m.\u001b[0m\u001b[0m_is_graph_network\u001b[0m\u001b[0;34m:\u001b[0m\u001b[0;34m\u001b[0m\u001b[0;34m\u001b[0m\u001b[0m\n\u001b[1;32m    639\u001b[0m                 \u001b[0;31m# Additional checks to avoid users mistakenly\u001b[0m\u001b[0;34m\u001b[0m\u001b[0;34m\u001b[0m\u001b[0;34m\u001b[0m\u001b[0m\n",
            "\u001b[0;32m/usr/local/lib/python3.6/dist-packages/keras/engine/training_utils.py\u001b[0m in \u001b[0;36mcheck_array_length_consistency\u001b[0;34m(inputs, targets, weights)\u001b[0m\n\u001b[1;32m    242\u001b[0m                          \u001b[0;34m'the same number of samples as target arrays. '\u001b[0m\u001b[0;34m\u001b[0m\u001b[0;34m\u001b[0m\u001b[0m\n\u001b[1;32m    243\u001b[0m                          \u001b[0;34m'Found '\u001b[0m \u001b[0;34m+\u001b[0m \u001b[0mstr\u001b[0m\u001b[0;34m(\u001b[0m\u001b[0mlist\u001b[0m\u001b[0;34m(\u001b[0m\u001b[0mset_x\u001b[0m\u001b[0;34m)\u001b[0m\u001b[0;34m[\u001b[0m\u001b[0;36m0\u001b[0m\u001b[0;34m]\u001b[0m\u001b[0;34m)\u001b[0m \u001b[0;34m+\u001b[0m \u001b[0;34m' input samples '\u001b[0m\u001b[0;34m\u001b[0m\u001b[0;34m\u001b[0m\u001b[0m\n\u001b[0;32m--> 244\u001b[0;31m                          'and ' + str(list(set_y)[0]) + ' target samples.')\n\u001b[0m\u001b[1;32m    245\u001b[0m     \u001b[0;32mif\u001b[0m \u001b[0mlen\u001b[0m\u001b[0;34m(\u001b[0m\u001b[0mset_w\u001b[0m\u001b[0;34m)\u001b[0m \u001b[0;34m>\u001b[0m \u001b[0;36m1\u001b[0m\u001b[0;34m:\u001b[0m\u001b[0;34m\u001b[0m\u001b[0;34m\u001b[0m\u001b[0m\n\u001b[1;32m    246\u001b[0m         raise ValueError('All sample_weight arrays should have '\n",
            "\u001b[0;31mValueError\u001b[0m: Input arrays should have the same number of samples as target arrays. Found 240000 input samples and 60000 target samples."
          ]
        }
      ]
    },
    {
      "cell_type": "code",
      "metadata": {
        "id": "H9vE-oxC_ctJ",
        "colab_type": "code",
        "colab": {
          "base_uri": "https://localhost:8080/",
          "height": 1000
        },
        "outputId": "7133d117-bbae-49c4-8234-0b013f3cc7a5"
      },
      "source": [
        "import numpy as np\n",
        "import matplotlib.pyplot as plt\n",
        "\n",
        "from keras.datasets import mnist\n",
        "(X_train, y_train), (X_test, y_test) = mnist.load_data()\n",
        "\n",
        "from keras.layers import Conv2D, MaxPooling2D, UpSampling2D\n",
        "from keras.models import Model, Sequential\n",
        "from keras.optimizers import Adam\n",
        "from keras import backend as k\n",
        "\n",
        "# for resizing images\n",
        "from scipy.misc import imresize\n",
        "\n",
        "def reshape(x):\n",
        "    \"\"\"Reshape images to 14*14\"\"\"\n",
        "    img = imresize(x.reshape(28,28), (14, 14))\n",
        "    return img\n",
        "\n",
        "# create 14*14 low resolution train and test images\n",
        "XX_train = np.array([*map(reshape, X_train.astype(float))])\n",
        "XX_test = np.array([*map(reshape, X_test.astype(float))])\n",
        "\n",
        "# scale images to range between 0 and 1\n",
        "#14*14 train images\n",
        "XX_train = XX_train/255\n",
        "#28*28 train label images\n",
        "X_train = X_train/255\n",
        "\n",
        "#14*14 test images\n",
        "XX_test = XX_test/255\n",
        "#28*28 test label images\n",
        "X_test = X_test/255\n",
        "\n",
        "batch_size = 128\n",
        "epochs = 40\n",
        "input_shape = (14,14,1)\n",
        "\n",
        "def make_autoencoder(input_shape):\n",
        "\n",
        "    generator = Sequential()\n",
        "    generator.add(Conv2D(64, (3, 3), activation='relu', padding='same',\n",
        "                         input_shape=input_shape))\n",
        "    generator.add(MaxPooling2D(pool_size=(2, 2)))\n",
        "\n",
        "    generator.add(Conv2D(128, (3, 3), activation='relu', padding='same'))\n",
        "\n",
        "    generator.add(Conv2D(128, (3, 3), activation='relu', padding='same'))\n",
        "    generator.add(UpSampling2D((2, 2)))\n",
        "\n",
        "    generator.add(Conv2D(64, (3, 3), activation='relu', padding='same'))\n",
        "    generator.add(UpSampling2D((2, 2)))\n",
        "\n",
        "    generator.add(Conv2D(1, (3, 3), activation='sigmoid', padding='same'))\n",
        "\n",
        "    return generator\n",
        "\n",
        "\n",
        "autoencoder = make_autoencoder(input_shape)\n",
        "autoencoder.compile(loss='mean_squared_error', optimizer = Adam(lr=0.0002,\n",
        "                                                                beta_1=0.5))\n",
        "\n",
        "autoencoder_train = autoencoder.fit(XX_train.reshape(-1,14,14,1),\n",
        "                                    X_train.reshape(-1,28,28,1),\n",
        "                                    batch_size=batch_size,\n",
        "                                    epochs=epochs, verbose=1,\n",
        "                                    validation_split = 0.2)\n",
        "\n",
        "loss = autoencoder_train.history['loss']\n",
        "val_loss = autoencoder_train.history['val_loss']\n",
        "epochs_ = [x for x in range(epochs)]\n",
        "plt.figure()\n",
        "plt.plot(epochs_, loss, label='Training loss', marker = 'D')\n",
        "plt.plot(epochs_, val_loss, label='Validation loss', marker = 'o')\n",
        "plt.title('Training and validation loss')\n",
        "plt.legend()\n",
        "plt.show()\n",
        "\n",
        "print('Input')\n",
        "plt.figure(figsize=(5,5))\n",
        "for i in range(9):\n",
        "    plt.subplot(331 + i)\n",
        "    plt.imshow(np.squeeze(XX_test.reshape(-1,14,14)[i]), cmap='gray')\n",
        "plt.show()\n",
        "\n",
        "# Test set results\n",
        "print('GENERATED')\n",
        "plt.figure(figsize=(5,5))\n",
        "for i in range(9):\n",
        "    pred = autoencoder.predict(XX_test.reshape(-1,14,14,1)[i:i+1], verbose=0)\n",
        "    plt.subplot(331 + i)\n",
        "    plt.imshow(pred[0].reshape(28,28), cmap='gray')\n",
        "plt.show()"
      ],
      "execution_count": 17,
      "outputs": [
        {
          "output_type": "stream",
          "text": [
            "/usr/local/lib/python3.6/dist-packages/ipykernel_launcher.py:17: DeprecationWarning: `imresize` is deprecated!\n",
            "`imresize` is deprecated in SciPy 1.0.0, and will be removed in 1.2.0.\n",
            "Use ``skimage.transform.resize`` instead.\n"
          ],
          "name": "stderr"
        },
        {
          "output_type": "stream",
          "text": [
            "Train on 48000 samples, validate on 12000 samples\n",
            "Epoch 1/40\n",
            "48000/48000 [==============================] - 312s 6ms/step - loss: 0.0290 - val_loss: 0.0104\n",
            "Epoch 2/40\n",
            "48000/48000 [==============================] - 312s 7ms/step - loss: 0.0080 - val_loss: 0.0069\n",
            "Epoch 3/40\n",
            "48000/48000 [==============================] - 314s 7ms/step - loss: 0.0059 - val_loss: 0.0060\n",
            "Epoch 4/40\n",
            "48000/48000 [==============================] - 312s 7ms/step - loss: 0.0049 - val_loss: 0.0045\n",
            "Epoch 5/40\n",
            "48000/48000 [==============================] - 312s 6ms/step - loss: 0.0043 - val_loss: 0.0042\n",
            "Epoch 6/40\n",
            "48000/48000 [==============================] - 313s 7ms/step - loss: 0.0040 - val_loss: 0.0038\n",
            "Epoch 7/40\n",
            "48000/48000 [==============================] - 313s 7ms/step - loss: 0.0037 - val_loss: 0.0035\n",
            "Epoch 8/40\n",
            "48000/48000 [==============================] - 312s 7ms/step - loss: 0.0034 - val_loss: 0.0033\n",
            "Epoch 9/40\n",
            "48000/48000 [==============================] - 313s 7ms/step - loss: 0.0032 - val_loss: 0.0035\n",
            "Epoch 10/40\n",
            "48000/48000 [==============================] - 314s 7ms/step - loss: 0.0031 - val_loss: 0.0032\n",
            "Epoch 11/40\n",
            "48000/48000 [==============================] - 314s 7ms/step - loss: 0.0029 - val_loss: 0.0031\n",
            "Epoch 12/40\n",
            "48000/48000 [==============================] - 313s 7ms/step - loss: 0.0028 - val_loss: 0.0027\n",
            "Epoch 13/40\n",
            "48000/48000 [==============================] - 313s 7ms/step - loss: 0.0027 - val_loss: 0.0026\n",
            "Epoch 14/40\n",
            "48000/48000 [==============================] - 314s 7ms/step - loss: 0.0026 - val_loss: 0.0031\n",
            "Epoch 15/40\n",
            "48000/48000 [==============================] - 313s 7ms/step - loss: 0.0025 - val_loss: 0.0024\n",
            "Epoch 16/40\n",
            "48000/48000 [==============================] - 317s 7ms/step - loss: 0.0024 - val_loss: 0.0025\n",
            "Epoch 17/40\n",
            "48000/48000 [==============================] - 314s 7ms/step - loss: 0.0024 - val_loss: 0.0024\n",
            "Epoch 18/40\n",
            "48000/48000 [==============================] - 320s 7ms/step - loss: 0.0023 - val_loss: 0.0023\n",
            "Epoch 19/40\n",
            "48000/48000 [==============================] - 315s 7ms/step - loss: 0.0022 - val_loss: 0.0022\n",
            "Epoch 20/40\n",
            "48000/48000 [==============================] - 319s 7ms/step - loss: 0.0022 - val_loss: 0.0021\n",
            "Epoch 21/40\n",
            "48000/48000 [==============================] - 315s 7ms/step - loss: 0.0021 - val_loss: 0.0022\n",
            "Epoch 22/40\n",
            "48000/48000 [==============================] - 320s 7ms/step - loss: 0.0021 - val_loss: 0.0021\n",
            "Epoch 23/40\n",
            "48000/48000 [==============================] - 317s 7ms/step - loss: 0.0021 - val_loss: 0.0020\n",
            "Epoch 24/40\n",
            "48000/48000 [==============================] - 320s 7ms/step - loss: 0.0020 - val_loss: 0.0020\n",
            "Epoch 25/40\n",
            "48000/48000 [==============================] - 313s 7ms/step - loss: 0.0020 - val_loss: 0.0020\n",
            "Epoch 26/40\n",
            "48000/48000 [==============================] - 313s 7ms/step - loss: 0.0019 - val_loss: 0.0020\n",
            "Epoch 27/40\n",
            "48000/48000 [==============================] - 314s 7ms/step - loss: 0.0019 - val_loss: 0.0019\n",
            "Epoch 28/40\n",
            "48000/48000 [==============================] - 314s 7ms/step - loss: 0.0019 - val_loss: 0.0019\n",
            "Epoch 29/40\n",
            "48000/48000 [==============================] - 319s 7ms/step - loss: 0.0018 - val_loss: 0.0021\n",
            "Epoch 30/40\n",
            "48000/48000 [==============================] - 316s 7ms/step - loss: 0.0018 - val_loss: 0.0021\n",
            "Epoch 31/40\n",
            "48000/48000 [==============================] - 320s 7ms/step - loss: 0.0018 - val_loss: 0.0018\n",
            "Epoch 32/40\n",
            "48000/48000 [==============================] - 316s 7ms/step - loss: 0.0018 - val_loss: 0.0018\n",
            "Epoch 33/40\n",
            "48000/48000 [==============================] - 321s 7ms/step - loss: 0.0018 - val_loss: 0.0018\n",
            "Epoch 34/40\n",
            "48000/48000 [==============================] - 315s 7ms/step - loss: 0.0017 - val_loss: 0.0017\n",
            "Epoch 35/40\n",
            "48000/48000 [==============================] - 315s 7ms/step - loss: 0.0017 - val_loss: 0.0017\n",
            "Epoch 36/40\n",
            "48000/48000 [==============================] - 314s 7ms/step - loss: 0.0017 - val_loss: 0.0017\n",
            "Epoch 37/40\n",
            "48000/48000 [==============================] - 314s 7ms/step - loss: 0.0017 - val_loss: 0.0017\n",
            "Epoch 38/40\n",
            "48000/48000 [==============================] - 314s 7ms/step - loss: 0.0017 - val_loss: 0.0017\n",
            "Epoch 39/40\n",
            "48000/48000 [==============================] - 314s 7ms/step - loss: 0.0016 - val_loss: 0.0017\n",
            "Epoch 40/40\n",
            "48000/48000 [==============================] - 318s 7ms/step - loss: 0.0016 - val_loss: 0.0016\n"
          ],
          "name": "stdout"
        },
        {
          "output_type": "display_data",
          "data": {
            "image/png": "[encoded data removed]",
            "text/plain": [
              "<Figure size 432x288 with 1 Axes>"
            ]
          },
          "metadata": {
            "tags": [],
            "needs_background": "light"
          }
        },
        {
          "output_type": "stream",
          "text": [
            "Input\n"
          ],
          "name": "stdout"
        },
        {
          "output_type": "display_data",
          "data": {
            "image/png": "[encoded data removed]",
            "text/plain": [
              "<Figure size 360x360 with 9 Axes>"
            ]
          },
          "metadata": {
            "tags": [],
            "needs_background": "light"
          }
        },
        {
          "output_type": "stream",
          "text": [
            "GENERATED\n"
          ],
          "name": "stdout"
        },
        {
          "output_type": "display_data",
          "data": {
            "image/png": "[encoded data removed]",
            "text/plain": [
              "<Figure size 360x360 with 9 Axes>"
            ]
          },
          "metadata": {
            "tags": [],
            "needs_background": "light"
          }
        }
      ]
    },
    {
      "cell_type": "code",
      "metadata": {
        "id": "FrnC2qme_-yx",
        "colab_type": "code",
        "colab": {}
      },
      "source": [
        ""
      ],
      "execution_count": 0,
      "outputs": []
    }
  ]
}